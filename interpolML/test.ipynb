{
 "cells": [
  {
   "cell_type": "code",
   "execution_count": 7,
   "metadata": {
    "collapsed": true,
    "pycharm": {
     "name": "#%%\n"
    }
   },
   "outputs": [],
   "source": [
    "from interpol import interpolML\n",
    "\n",
    "test_object = interpolML(\"2019-01-01\", \"2021-01-01\", \"2021-03-31\")\n",
    "\n"
   ]
  },
  {
   "cell_type": "code",
   "execution_count": 8,
   "outputs": [
    {
     "data": {
      "text/plain": "                High       Low      Open     Close        Volume  Adj Close\nDate                                                                       \n2019-01-01  0.002392  0.002322  0.002346  0.002392  1.736474e+07   0.002392\n2019-01-02  0.002458  0.002372  0.002388  0.002407  1.801539e+07   0.002407\n2019-01-03  0.002414  0.002356  0.002404  0.002360  1.761923e+07   0.002360\n2019-01-04  0.002397  0.002274  0.002364  0.002315  1.953010e+07   0.002315\n2019-01-05  0.002350  0.002280  0.002320  0.002319  1.714859e+07   0.002319\n...              ...       ...       ...       ...           ...        ...\n2021-03-28  0.054752  0.053013  0.054381  0.053698  4.604730e+08   0.053698\n2021-03-28  0.054651  0.053175  0.053678  0.054052  5.379191e+08   0.054052\n2021-03-29  0.055434  0.053697  0.054052  0.053900  7.289062e+08   0.053900\n2021-03-30  0.054468  0.052269  0.053902  0.053657  6.533893e+08   0.053657\n2021-03-31  0.070111  0.053644  0.053655  0.061986  5.816047e+09   0.061986\n\n[818 rows x 6 columns]",
      "text/html": "<div>\n<style scoped>\n    .dataframe tbody tr th:only-of-type {\n        vertical-align: middle;\n    }\n\n    .dataframe tbody tr th {\n        vertical-align: top;\n    }\n\n    .dataframe thead th {\n        text-align: right;\n    }\n</style>\n<table border=\"1\" class=\"dataframe\">\n  <thead>\n    <tr style=\"text-align: right;\">\n      <th></th>\n      <th>High</th>\n      <th>Low</th>\n      <th>Open</th>\n      <th>Close</th>\n      <th>Volume</th>\n      <th>Adj Close</th>\n    </tr>\n    <tr>\n      <th>Date</th>\n      <th></th>\n      <th></th>\n      <th></th>\n      <th></th>\n      <th></th>\n      <th></th>\n    </tr>\n  </thead>\n  <tbody>\n    <tr>\n      <th>2019-01-01</th>\n      <td>0.002392</td>\n      <td>0.002322</td>\n      <td>0.002346</td>\n      <td>0.002392</td>\n      <td>1.736474e+07</td>\n      <td>0.002392</td>\n    </tr>\n    <tr>\n      <th>2019-01-02</th>\n      <td>0.002458</td>\n      <td>0.002372</td>\n      <td>0.002388</td>\n      <td>0.002407</td>\n      <td>1.801539e+07</td>\n      <td>0.002407</td>\n    </tr>\n    <tr>\n      <th>2019-01-03</th>\n      <td>0.002414</td>\n      <td>0.002356</td>\n      <td>0.002404</td>\n      <td>0.002360</td>\n      <td>1.761923e+07</td>\n      <td>0.002360</td>\n    </tr>\n    <tr>\n      <th>2019-01-04</th>\n      <td>0.002397</td>\n      <td>0.002274</td>\n      <td>0.002364</td>\n      <td>0.002315</td>\n      <td>1.953010e+07</td>\n      <td>0.002315</td>\n    </tr>\n    <tr>\n      <th>2019-01-05</th>\n      <td>0.002350</td>\n      <td>0.002280</td>\n      <td>0.002320</td>\n      <td>0.002319</td>\n      <td>1.714859e+07</td>\n      <td>0.002319</td>\n    </tr>\n    <tr>\n      <th>...</th>\n      <td>...</td>\n      <td>...</td>\n      <td>...</td>\n      <td>...</td>\n      <td>...</td>\n      <td>...</td>\n    </tr>\n    <tr>\n      <th>2021-03-28</th>\n      <td>0.054752</td>\n      <td>0.053013</td>\n      <td>0.054381</td>\n      <td>0.053698</td>\n      <td>4.604730e+08</td>\n      <td>0.053698</td>\n    </tr>\n    <tr>\n      <th>2021-03-28</th>\n      <td>0.054651</td>\n      <td>0.053175</td>\n      <td>0.053678</td>\n      <td>0.054052</td>\n      <td>5.379191e+08</td>\n      <td>0.054052</td>\n    </tr>\n    <tr>\n      <th>2021-03-29</th>\n      <td>0.055434</td>\n      <td>0.053697</td>\n      <td>0.054052</td>\n      <td>0.053900</td>\n      <td>7.289062e+08</td>\n      <td>0.053900</td>\n    </tr>\n    <tr>\n      <th>2021-03-30</th>\n      <td>0.054468</td>\n      <td>0.052269</td>\n      <td>0.053902</td>\n      <td>0.053657</td>\n      <td>6.533893e+08</td>\n      <td>0.053657</td>\n    </tr>\n    <tr>\n      <th>2021-03-31</th>\n      <td>0.070111</td>\n      <td>0.053644</td>\n      <td>0.053655</td>\n      <td>0.061986</td>\n      <td>5.816047e+09</td>\n      <td>0.061986</td>\n    </tr>\n  </tbody>\n</table>\n<p>818 rows × 6 columns</p>\n</div>"
     },
     "execution_count": 8,
     "metadata": {},
     "output_type": "execute_result"
    }
   ],
   "source": [
    "test_object.data\n"
   ],
   "metadata": {
    "collapsed": false,
    "pycharm": {
     "name": "#%%\n"
    }
   }
  }
 ],
 "metadata": {
  "kernelspec": {
   "name": "python3",
   "language": "python",
   "display_name": "Python 3"
  },
  "language_info": {
   "codemirror_mode": {
    "name": "ipython",
    "version": 2
   },
   "file_extension": ".py",
   "mimetype": "text/x-python",
   "name": "python",
   "nbconvert_exporter": "python",
   "pygments_lexer": "ipython2",
   "version": "2.7.6"
  }
 },
 "nbformat": 4,
 "nbformat_minor": 0
}