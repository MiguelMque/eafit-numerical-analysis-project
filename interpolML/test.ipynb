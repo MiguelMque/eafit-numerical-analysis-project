{
 "cells": [
  {
   "cell_type": "code",
   "execution_count": 7,
   "metadata": {
    "collapsed": true,
    "pycharm": {
     "name": "#%%\n"
    }
   },
   "outputs": [],
   "source": [
    "from interpol import interpolML\n",
    "\n",
    "test_object = interpolML(\"2019-01-01\", \"2021-01-01\", \"2021-03-31\")\n",
    "\n"
   ]
  },
  {
   "cell_type": "code",
   "execution_count": 9,
   "outputs": [
    {
     "data": {
      "text/plain": "               Close\nDate                \n2019-01-01  0.002392\n2019-01-02  0.002407\n2019-01-03  0.002360\n2019-01-04  0.002315\n2019-01-05  0.002319\n...              ...\n2021-03-28  0.053698\n2021-03-28  0.054052\n2021-03-29  0.053900\n2021-03-30  0.053657\n2021-03-31  0.061986\n\n[818 rows x 1 columns]",
      "text/html": "<div>\n<style scoped>\n    .dataframe tbody tr th:only-of-type {\n        vertical-align: middle;\n    }\n\n    .dataframe tbody tr th {\n        vertical-align: top;\n    }\n\n    .dataframe thead th {\n        text-align: right;\n    }\n</style>\n<table border=\"1\" class=\"dataframe\">\n  <thead>\n    <tr style=\"text-align: right;\">\n      <th></th>\n      <th>Close</th>\n    </tr>\n    <tr>\n      <th>Date</th>\n      <th></th>\n    </tr>\n  </thead>\n  <tbody>\n    <tr>\n      <th>2019-01-01</th>\n      <td>0.002392</td>\n    </tr>\n    <tr>\n      <th>2019-01-02</th>\n      <td>0.002407</td>\n    </tr>\n    <tr>\n      <th>2019-01-03</th>\n      <td>0.002360</td>\n    </tr>\n    <tr>\n      <th>2019-01-04</th>\n      <td>0.002315</td>\n    </tr>\n    <tr>\n      <th>2019-01-05</th>\n      <td>0.002319</td>\n    </tr>\n    <tr>\n      <th>...</th>\n      <td>...</td>\n    </tr>\n    <tr>\n      <th>2021-03-28</th>\n      <td>0.053698</td>\n    </tr>\n    <tr>\n      <th>2021-03-28</th>\n      <td>0.054052</td>\n    </tr>\n    <tr>\n      <th>2021-03-29</th>\n      <td>0.053900</td>\n    </tr>\n    <tr>\n      <th>2021-03-30</th>\n      <td>0.053657</td>\n    </tr>\n    <tr>\n      <th>2021-03-31</th>\n      <td>0.061986</td>\n    </tr>\n  </tbody>\n</table>\n<p>818 rows × 1 columns</p>\n</div>"
     },
     "execution_count": 9,
     "metadata": {},
     "output_type": "execute_result"
    }
   ],
   "source": [
    "test_object.data.filter([\"Close\"])\n"
   ],
   "metadata": {
    "collapsed": false,
    "pycharm": {
     "name": "#%%\n"
    }
   }
  },
  {
   "cell_type": "code",
   "execution_count": null,
   "outputs": [],
   "source": [],
   "metadata": {
    "collapsed": false,
    "pycharm": {
     "name": "#%%\n"
    }
   }
  }
 ],
 "metadata": {
  "kernelspec": {
   "name": "python3",
   "language": "python",
   "display_name": "Python 3"
  },
  "language_info": {
   "codemirror_mode": {
    "name": "ipython",
    "version": 2
   },
   "file_extension": ".py",
   "mimetype": "text/x-python",
   "name": "python",
   "nbconvert_exporter": "python",
   "pygments_lexer": "ipython2",
   "version": "2.7.6"
  }
 },
 "nbformat": 4,
 "nbformat_minor": 0
}